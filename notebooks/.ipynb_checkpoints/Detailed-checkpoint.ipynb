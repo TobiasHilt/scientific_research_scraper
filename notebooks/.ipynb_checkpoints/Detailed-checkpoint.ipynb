{
 "cells": [
  {
   "cell_type": "markdown",
   "id": "b56d5089",
   "metadata": {},
   "source": [
    "# <div class=\"girk\">With this notebook you can search all available databases seperately. You can edit the search string for each database and download the results for each. If desired you can join all the results and download a combined excel at the bottom of the page</div>"
   ]
  },
  {
   "cell_type": "markdown",
   "id": "9a45d20d",
   "metadata": {},
   "source": [
    "# How-to:\n",
    "    - Start Institutional VPN\n",
    "    - Change variables: Location (where do you want to download to?), query and run the cell\n",
    "    - Search the header for your desired database and run the cells below \n",
    "    - For each database the query is set to the one declared at the top (default). If needed it can be changed for every database to whatever you want. Count-limit is also adjustable to your needs\n",
    "    - Api-callable: Scopus, Science Direct and Arxiv\n",
    "    - The rest is scraped via chromedriver and can take a few minutes, depending how many search results are found"
   ]
  },
  {
   "cell_type": "code",
   "execution_count": null,
   "id": "e4a78a85",
   "metadata": {
    "ExecuteTime": {
     "end_time": "2022-01-31T09:23:15.352613Z",
     "start_time": "2022-01-31T09:23:13.919093Z"
    }
   },
   "outputs": [],
   "source": [
    "import scraper_tobiashilt as scrape\n",
    "from datetime import datetime\n",
    "\n",
    "#Location where the results should be downloaded to\n",
    "Location = '/Users/Tobias/Desktop/Python/'\n",
    "Date = datetime.today().strftime('%Y-%m-%d')\n",
    "\n",
    "\n",
    "# Search string\n",
    "query = '(\"DLT\" OR \"Distributed Ledger\") AND (\"Circular Economy\" OR \"Sustainable supply chain\")'"
   ]
  },
  {
   "cell_type": "markdown",
   "id": "472044cb",
   "metadata": {},
   "source": [
    "# Scopus"
   ]
  },
  {
   "cell_type": "code",
   "execution_count": null,
   "id": "5fdf277b",
   "metadata": {
    "ExecuteTime": {
     "end_time": "2022-01-31T09:23:20.025544Z",
     "start_time": "2022-01-31T09:23:19.671237Z"
    }
   },
   "outputs": [],
   "source": [
    "# Api-Key --> https://dev.elsevier.com\n",
    "# max value for count: 6000 (Api-limit)\n",
    "\n",
    "key = '...'\n",
    "query_scopus = query\n",
    "count = 50\n",
    "\n",
    "df_Scopus = scrape.scrape_scopus(key, query_scopus, count)\n",
    "df_Scopus\n"
   ]
  },
  {
   "cell_type": "markdown",
   "id": "6ea56895",
   "metadata": {},
   "source": [
    "### Download"
   ]
  },
  {
   "cell_type": "code",
   "execution_count": null,
   "id": "8fcf8ac5",
   "metadata": {
    "ExecuteTime": {
     "end_time": "2021-10-04T10:57:17.581432Z",
     "start_time": "2021-10-04T10:57:15.942198Z"
    }
   },
   "outputs": [],
   "source": [
    "Excel_Scopus = Location + Date + \"_Scopus.xlsx\"\n",
    "df_Scopus.to_excel(Excel_Scopus)"
   ]
  },
  {
   "cell_type": "markdown",
   "id": "957867fa",
   "metadata": {},
   "source": [
    "<font color=red>---------------------------------------------------------------------------------------------- </font>"
   ]
  },
  {
   "cell_type": "markdown",
   "id": "deac3e08",
   "metadata": {},
   "source": [
    "# Science Direct"
   ]
  },
  {
   "cell_type": "code",
   "execution_count": null,
   "id": "1f05a1af",
   "metadata": {
    "ExecuteTime": {
     "end_time": "2021-10-12T13:57:49.092800Z",
     "start_time": "2021-10-12T13:57:47.174431Z"
    }
   },
   "outputs": [],
   "source": [
    "# Get your Api-Key --> https://dev.elsevier.com\n",
    "# Count kann auf max. 6000 gesetzt werden (API-Limit)\n",
    "\n",
    "\n",
    "key = '...'\n",
    "insttoken = '...'\n",
    "query_sd = query\n",
    "count = 50\n",
    "\n",
    "df_sciencedirect = scrape.scrape_sd(key,insttoken, query_sd, count)\n",
    "df_sciencedirect"
   ]
  },
  {
   "cell_type": "markdown",
   "id": "99c830af",
   "metadata": {},
   "source": [
    "### Download"
   ]
  },
  {
   "cell_type": "code",
   "execution_count": null,
   "id": "a1fb4948",
   "metadata": {},
   "outputs": [],
   "source": [
    "Excel_ScienceDirect = Location + Date + \"_ScienceDirect.xlsx\"\n",
    "df_sciencedirect.to_excel(Excel_ScienceDirect)"
   ]
  },
  {
   "cell_type": "markdown",
   "id": "6c58a495",
   "metadata": {},
   "source": [
    "<font color=red>---------------------------------------------------------------------------------------------- </font>"
   ]
  },
  {
   "cell_type": "markdown",
   "id": "6b270454",
   "metadata": {},
   "source": [
    "# Arxiv"
   ]
  },
  {
   "cell_type": "code",
   "execution_count": null,
   "id": "42c4cead",
   "metadata": {
    "ExecuteTime": {
     "end_time": "2021-10-13T08:16:27.208417Z",
     "start_time": "2021-10-13T08:16:26.327425Z"
    },
    "scrolled": false
   },
   "outputs": [],
   "source": [
    "# Unser Searchstring muss angepasst werden, da keine Ergebnisse gefunden werden. Count anpassen\n",
    "\n",
    "#query_arxix = query\n",
    "query_arxiv = \"test\"\n",
    "count = 10\n",
    "\n",
    "df_arxiv = scrape.scrape_arxiv(query_arxiv, count)\n",
    "df_arxiv"
   ]
  },
  {
   "cell_type": "markdown",
   "id": "228019d1",
   "metadata": {},
   "source": [
    "### Download"
   ]
  },
  {
   "cell_type": "code",
   "execution_count": null,
   "id": "37fffd3b",
   "metadata": {},
   "outputs": [],
   "source": [
    "Excel_Arxiv = Location + Date + \"_Arxiv.xlsx\"\n",
    "df_arxiv.to_excel(Excel_Arxiv)"
   ]
  },
  {
   "cell_type": "markdown",
   "id": "e69e15ad",
   "metadata": {},
   "source": [
    "<font color=red>---------------------------------------------------------------------------------------------- </font>"
   ]
  },
  {
   "cell_type": "markdown",
   "id": "f14841c8",
   "metadata": {},
   "source": [
    "# Web of Science "
   ]
  },
  {
   "cell_type": "code",
   "execution_count": null,
   "id": "0bcfcb06",
   "metadata": {
    "ExecuteTime": {
     "end_time": "2021-10-18T07:57:27.637997Z",
     "start_time": "2021-10-18T07:56:19.160982Z"
    }
   },
   "outputs": [],
   "source": [
    "# Mit Webdriver, da keine API vorhanden und wir keinen IP-Block bekommen möchten (automatischer request laut robots.txt nicht erlaubt)\n",
    "#--> Kaffee trinken gehen und machen lassen\n",
    "# Count kann beliebig groß sein\n",
    "count = 5\n",
    "#query_wos = \"test\"\n",
    "query_wos = query\n",
    "\n",
    "df_wos = scrape.scrape_wos(query_wos, count)\n",
    "df_wos"
   ]
  },
  {
   "cell_type": "markdown",
   "id": "006c7468",
   "metadata": {},
   "source": [
    "### Download"
   ]
  },
  {
   "cell_type": "code",
   "execution_count": null,
   "id": "17b8e284",
   "metadata": {},
   "outputs": [],
   "source": [
    "Excel_WoS = Location + Date  + \"_WoS.xlsx\"\n",
    "df_wos.to_excel(Excel_WoS)"
   ]
  },
  {
   "cell_type": "markdown",
   "id": "f43dc5e2",
   "metadata": {},
   "source": [
    "<font color=red>---------------------------------------------------------------------------------------------- </font>"
   ]
  },
  {
   "cell_type": "markdown",
   "id": "90267547",
   "metadata": {},
   "source": [
    "# ACM digital"
   ]
  },
  {
   "cell_type": "code",
   "execution_count": null,
   "id": "01f7fe85",
   "metadata": {
    "ExecuteTime": {
     "end_time": "2021-10-16T12:55:33.661936Z",
     "start_time": "2021-10-16T12:54:44.468829Z"
    }
   },
   "outputs": [],
   "source": [
    "# Mit Webdriver, da keine API vorhanden und wir keinen IP-Block bekommen möchten (automatischer request laut robots.txt nicht erlaubt)\n",
    "#--> Kaffee trinken gehen und machen lassen\n",
    "# Count kann beliebig groß sein\n",
    "count = 51\n",
    "#query_wos = \"test\"\n",
    "query_acm = query\n",
    "\n",
    "df_acm = scrape.scrape_acm(query_acm, count)\n",
    "df_acm"
   ]
  },
  {
   "cell_type": "markdown",
   "id": "449aed1a",
   "metadata": {},
   "source": [
    "## Download"
   ]
  },
  {
   "cell_type": "code",
   "execution_count": null,
   "id": "cf3b64ed",
   "metadata": {
    "ExecuteTime": {
     "end_time": "2021-10-12T13:03:46.970002Z",
     "start_time": "2021-10-12T13:03:46.857874Z"
    }
   },
   "outputs": [],
   "source": [
    "Excel_acm = Location + Date + \"_ACM.xlsx\"\n",
    "df_acm.to_excel(Excel_acm)"
   ]
  },
  {
   "cell_type": "markdown",
   "id": "bc940ed8",
   "metadata": {},
   "source": [
    "<font color=red>---------------------------------------------------------------------------------------------- </font>"
   ]
  },
  {
   "cell_type": "markdown",
   "id": "6a396d44",
   "metadata": {},
   "source": [
    "# IEEE"
   ]
  },
  {
   "cell_type": "code",
   "execution_count": null,
   "id": "57f16976",
   "metadata": {
    "ExecuteTime": {
     "end_time": "2021-10-13T09:28:44.953827Z",
     "start_time": "2021-10-13T09:28:11.388137Z"
    }
   },
   "outputs": [],
   "source": [
    "# Mit Webdriver, da keine API vorhanden und wir keinen IP-Block bekommen möchten (automatischer request laut robots.txt nicht erlaubt)\n",
    "#--> Kaffee trinken gehen und machen lassen\n",
    "# Count kann beliebig groß sein\n",
    "count = 51\n",
    "#query_wos = \"test\"\n",
    "query_ieee = query\n",
    "\n",
    "df_ieee = scrape.scrape_ieee(query_ieee, count)\n",
    "df_ieee"
   ]
  },
  {
   "cell_type": "code",
   "execution_count": null,
   "id": "d5b647d2",
   "metadata": {
    "ExecuteTime": {
     "end_time": "2021-10-13T09:27:09.732121Z",
     "start_time": "2021-10-13T09:27:09.717095Z"
    }
   },
   "outputs": [],
   "source": [
    "Excel_ieee = Location + Date + \"_IEEE.xlsx\"\n",
    "df_ieee.to_excel(Excel_ieee)"
   ]
  },
  {
   "cell_type": "markdown",
   "id": "9b693459",
   "metadata": {},
   "source": [
    "<font color=red>---------------------------------------------------------------------------------------------- </font>"
   ]
  },
  {
   "cell_type": "markdown",
   "id": "28b9f0c6",
   "metadata": {},
   "source": [
    "# Emerald Insight"
   ]
  },
  {
   "cell_type": "code",
   "execution_count": null,
   "id": "30db5e45",
   "metadata": {},
   "outputs": [],
   "source": [
    "count = \n",
    "query_emerald = query\n",
    "\n",
    "df_emerald = scrape.scrape_emerald(query_emerald, count)\n",
    "df_emerald"
   ]
  },
  {
   "cell_type": "code",
   "execution_count": null,
   "id": "6d18f86d",
   "metadata": {},
   "outputs": [],
   "source": [
    "Excel_emerald = Location + Date + \"_Emerald.xlsx\"\n",
    "df_emerald.to_excel(Excel_emerald)"
   ]
  },
  {
   "cell_type": "markdown",
   "id": "23379aa3",
   "metadata": {},
   "source": [
    "# <div class=\"burk\"> Combine and download all</div><i class=\"fa fa-lightbulb-o \"></i>"
   ]
  },
  {
   "cell_type": "markdown",
   "id": "5bb63c4b",
   "metadata": {},
   "source": [
    "### Combine your desired databases by including them in \"frames\""
   ]
  },
  {
   "cell_type": "code",
   "execution_count": null,
   "id": "e5e70cdb",
   "metadata": {
    "ExecuteTime": {
     "end_time": "2021-10-12T14:06:15.685156Z",
     "start_time": "2021-10-12T14:06:15.655506Z"
    }
   },
   "outputs": [],
   "source": [
    "import pandas as pd\n",
    "# default\n",
    "#frames = [df_Scopus, df_sciencedirect, df_arxiv, df_wos, df_acm, df_ieee, df_emerald]\n",
    "frames = [df_Scopus, df_sciencedirect, df_arxiv, df_wos]\n",
    "\n",
    "result = pd.concat(frames, ignore_index=True)\n",
    "pre = len(result)\n",
    "result[result['DOI'].isnull() | ~result[result['DOI'].notnull()].duplicated(subset='DOI',keep='first')]\n",
    "result['Title'] = result['Title'].str.lower()\n",
    "result.drop_duplicates(subset ='Title', keep = 'first', inplace = True)\n",
    "after = len(result)\n",
    "print('Es wurden', pre-after, 'Duplikate entfernt! (Basierend auf DOI oder Titel)')\n",
    "result.reset_index(inplace = True, drop = True)\n",
    "result['Cited_by'] = pd.to_numeric(result['Cited_by'])\n",
    "result"
   ]
  },
  {
   "cell_type": "code",
   "execution_count": null,
   "id": "27b281bc",
   "metadata": {
    "ExecuteTime": {
     "end_time": "2021-10-12T14:09:56.754441Z",
     "start_time": "2021-10-12T14:09:56.511920Z"
    }
   },
   "outputs": [],
   "source": [
    "detailed_combined = Location + Date + \"_detailed_combined.xlsx\"\n",
    "result.to_excel(detailed_combined)"
   ]
  }
 ],
 "metadata": {
  "kernelspec": {
   "display_name": "Python 3 (ipykernel)",
   "language": "python",
   "name": "python3"
  },
  "language_info": {
   "codemirror_mode": {
    "name": "ipython",
    "version": 3
   },
   "file_extension": ".py",
   "mimetype": "text/x-python",
   "name": "python",
   "nbconvert_exporter": "python",
   "pygments_lexer": "ipython3",
   "version": "3.10.0"
  },
  "varInspector": {
   "cols": {
    "lenName": 16,
    "lenType": 16,
    "lenVar": 40
   },
   "kernels_config": {
    "python": {
     "delete_cmd_postfix": "",
     "delete_cmd_prefix": "del ",
     "library": "var_list.py",
     "varRefreshCmd": "print(var_dic_list())"
    },
    "r": {
     "delete_cmd_postfix": ") ",
     "delete_cmd_prefix": "rm(",
     "library": "var_list.r",
     "varRefreshCmd": "cat(var_dic_list()) "
    }
   },
   "types_to_exclude": [
    "module",
    "function",
    "builtin_function_or_method",
    "instance",
    "_Feature"
   ],
   "window_display": false
  }
 },
 "nbformat": 4,
 "nbformat_minor": 5
}
